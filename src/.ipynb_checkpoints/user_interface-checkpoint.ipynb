{
 "cells": [
  {
   "cell_type": "code",
   "execution_count": 8,
   "metadata": {},
   "outputs": [
    {
     "data": {
      "text/plain": [
       "<__main__.facialanimation at 0x2150c46d898>"
      ]
     },
     "execution_count": 8,
     "metadata": {},
     "output_type": "execute_result"
    }
   ],
   "source": [
    "import tkinter as tk\n",
    "from tkinter import *\n",
    "from tkinter import filedialog\n",
    "from playsound import playsound\n",
    "import framevideo\n",
    "\n",
    "class facialanimation:\n",
    "    def __init__(self):\n",
    "        root=tk.Tk()\n",
    "        self.master=root\n",
    "        root.title(\"Speech Driven Facial Animation\")\n",
    "        root.geometry(\"800x500\")\n",
    "        self.actor=\"Video_Speech_Actor_23\"\n",
    "        self.file=\"01-01-04-01-02-02-23\"\n",
    "\n",
    "        def get_file_name(label):\n",
    "            file_name = filedialog.askopenfilename(title = \"Select file\",filetypes = ((\"audio Files\",\"*.wav\"),))\n",
    "            label.config(text=file_name)\n",
    "            l=split_path(label)\n",
    "            self.actor=l[-2]\n",
    "            self.file=l[-1].split('.')[0]\n",
    "            \n",
    "            \n",
    "        def run_video():\n",
    "            path='../speech_dir/test_output/'+self.actor+'/'+self.file+'/'\n",
    "            framevideo.make_video(path,self.actor,self.file)\n",
    "            \n",
    "             \n",
    "            \n",
    "        def run_audio(label):\n",
    "            playsound(label['text'])\n",
    "            \n",
    "        def split_path(label):\n",
    "            file_name=label['text']\n",
    "            l=file_name.split('/')\n",
    "            return l   \n",
    "        \n",
    "        \n",
    "        label=Label(master=root, text=\"\", width=100,height=2)\n",
    "        label.place(x=50,y=100)\n",
    "        R1 = Button(master=root, text=\"Choose an Audio File\",bd=5,bg='cyan', command=lambda:get_file_name(label),width=25,height=2)\n",
    "        R1.place(x=300,y=20)\n",
    "        R3 = Button(master=root, text=\"Run Audio File\",bd=5,bg='cyan', command=lambda:run_audio(label),width=25,height=2)\n",
    "        R3.place(x=300,y=150)\n",
    "        R2 = Button(master=root, text=\"output\",bd=5,bg='cyan', command=lambda:run_video(),width=25,height=2)\n",
    "        R2.place(x=300,y=200)\n",
    "        \n",
    "        root.mainloop()\n",
    "        \n",
    "   \n",
    "\n",
    "App=facialanimation()\n",
    "App       "
   ]
  },
  {
   "cell_type": "code",
   "execution_count": null,
   "metadata": {},
   "outputs": [],
   "source": []
  },
  {
   "cell_type": "code",
   "execution_count": null,
   "metadata": {},
   "outputs": [],
   "source": [
    "    "
   ]
  },
  {
   "cell_type": "code",
   "execution_count": null,
   "metadata": {},
   "outputs": [],
   "source": []
  }
 ],
 "metadata": {
  "kernelspec": {
   "display_name": "Python [default]",
   "language": "python",
   "name": "python3"
  },
  "language_info": {
   "codemirror_mode": {
    "name": "ipython",
    "version": 3
   },
   "file_extension": ".py",
   "mimetype": "text/x-python",
   "name": "python",
   "nbconvert_exporter": "python",
   "pygments_lexer": "ipython3",
   "version": "3.6.4"
  }
 },
 "nbformat": 4,
 "nbformat_minor": 2
}
