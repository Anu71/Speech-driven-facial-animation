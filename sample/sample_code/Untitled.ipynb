{
 "cells": [
  {
   "cell_type": "code",
   "execution_count": 2,
   "metadata": {},
   "outputs": [
    {
     "name": "stdout",
     "output_type": "stream",
     "text": [
      "Preprocess Video 1\n",
      "Preprocess Video 2\n"
     ]
    },
    {
     "name": "stderr",
     "output_type": "stream",
     "text": [
      "warning: Error opening file (/build/opencv/modules/videoio/src/cap_ffmpeg_impl.hpp:834)\n",
      "warning: ../sample_video/.ipynb_checkpoints (/build/opencv/modules/videoio/src/cap_ffmpeg_impl.hpp:835)\n"
     ]
    }
   ],
   "source": [
    "!python landmark_generation.py"
   ]
  },
  {
   "cell_type": "code",
   "execution_count": 3,
   "metadata": {},
   "outputs": [],
   "source": [
    "!python extract_wav.py"
   ]
  },
  {
   "cell_type": "code",
   "execution_count": 4,
   "metadata": {},
   "outputs": [
    {
     "name": "stdout",
     "output_type": "stream",
     "text": [
      " --- ../sample_video/01-02-01-01-01-01-01.mp4\n"
     ]
    },
    {
     "name": "stderr",
     "output_type": "stream",
     "text": [
      "C:\\Users\\Muskan Mangla\\Anaconda3\\lib\\site-packages\\librosa\\core\\pitch.py:145: UserWarning: Trying to estimate tuning from empty frequency set.\n",
      "  warnings.warn('Trying to estimate tuning from empty frequency set.')\n",
      "C:\\Users\\Muskan Mangla\\Anaconda3\\lib\\site-packages\\librosa\\core\\pitch.py:145: UserWarning: Trying to estimate tuning from empty frequency set.\n",
      "  warnings.warn('Trying to estimate tuning from empty frequency set.')\n"
     ]
    }
   ],
   "source": [
    "!python extract_feature.py"
   ]
  },
  {
   "cell_type": "code",
   "execution_count": 5,
   "metadata": {},
   "outputs": [
    {
     "name": "stdout",
     "output_type": "stream",
     "text": [
      "hi\n",
      " --- ../sample_video/01-02-01-01-01-01-01.wav\n",
      "hello\n",
      "bye\n",
      "why\n"
     ]
    }
   ],
   "source": [
    "!python extract_spectrogram.py"
   ]
  },
  {
   "cell_type": "code",
   "execution_count": 8,
   "metadata": {},
   "outputs": [
    {
     "name": "stdout",
     "output_type": "stream",
     "text": [
      "<VideoCapture 000001D51088BF50>\n",
      "reading frame  0 True\n",
      "reading frame  1 True\n",
      "reading frame  2 True\n",
      "reading frame  3 True\n",
      "reading frame  4 True\n",
      "reading frame  5 True\n",
      "reading frame  6 True\n",
      "reading frame  7 True\n",
      "reading frame  8 True\n",
      "reading frame  9 True\n",
      "reading frame  10 True\n",
      "reading frame  11 True\n",
      "reading frame  12 True\n",
      "reading frame  13 True\n",
      "reading frame  14 True\n",
      "reading frame  15 True\n",
      "reading frame  16 True\n",
      "reading frame  17 True\n",
      "reading frame  18 True\n",
      "reading frame  19 True\n",
      "reading frame  20 True\n",
      "reading frame  21 True\n",
      "reading frame  22 True\n",
      "reading frame  23 True\n",
      "reading frame  24 True\n",
      "reading frame  25 True\n",
      "reading frame  26 True\n",
      "reading frame  27 True\n",
      "reading frame  28 True\n",
      "reading frame  29 True\n",
      "reading frame  30 True\n",
      "reading frame  31 True\n",
      "reading frame  32 True\n",
      "reading frame  33 True\n",
      "reading frame  34 True\n",
      "reading frame  35 True\n",
      "reading frame  36 True\n",
      "reading frame  37 True\n",
      "reading frame  38 True\n",
      "reading frame  39 True\n",
      "reading frame  40 True\n",
      "reading frame  41 True\n",
      "reading frame  42 True\n",
      "reading frame  43 True\n",
      "reading frame  44 True\n",
      "reading frame  45 True\n",
      "reading frame  46 True\n",
      "reading frame  47 True\n",
      "reading frame  48 True\n",
      "reading frame  49 True\n",
      "reading frame  50 True\n",
      "reading frame  51 True\n",
      "reading frame  52 True\n",
      "reading frame  53 True\n",
      "reading frame  54 True\n",
      "reading frame  55 True\n",
      "reading frame  56 True\n",
      "reading frame  57 True\n",
      "reading frame  58 True\n",
      "reading frame  59 True\n",
      "reading frame  60 True\n",
      "reading frame  61 True\n",
      "reading frame  62 True\n",
      "reading frame  63 True\n",
      "reading frame  64 True\n",
      "reading frame  65 True\n",
      "reading frame  66 True\n",
      "reading frame  67 True\n",
      "reading frame  68 True\n",
      "reading frame  69 True\n",
      "reading frame  70 True\n",
      "reading frame  71 True\n",
      "reading frame  72 True\n",
      "reading frame  73 True\n",
      "reading frame  74 True\n",
      "reading frame  75 True\n",
      "reading frame  76 True\n",
      "reading frame  77 True\n",
      "reading frame  78 True\n",
      "reading frame  79 True\n",
      "reading frame  80 True\n",
      "reading frame  81 True\n",
      "reading frame  82 True\n",
      "reading frame  83 True\n",
      "reading frame  84 True\n",
      "reading frame  85 True\n",
      "reading frame  86 True\n",
      "reading frame  87 True\n",
      "reading frame  88 True\n",
      "reading frame  89 True\n",
      "reading frame  90 True\n",
      "reading frame  91 True\n",
      "reading frame  92 True\n",
      "reading frame  93 True\n",
      "reading frame  94 True\n",
      "reading frame  95 True\n",
      "reading frame  96 True\n",
      "reading frame  97 True\n",
      "reading frame  98 True\n",
      "reading frame  99 True\n",
      "reading frame  100 True\n",
      "reading frame  101 True\n",
      "reading frame  102 True\n",
      "reading frame  103 True\n",
      "reading frame  104 True\n",
      "reading frame  105 True\n",
      "reading frame  106 True\n",
      "reading frame  107 True\n",
      "reading frame  108 True\n",
      "reading frame  109 True\n",
      "reading frame  110 True\n",
      "reading frame  111 True\n",
      "reading frame  112 True\n",
      "reading frame  113 True\n",
      "reading frame  114 True\n",
      "reading frame  115 True\n",
      "reading frame  116 True\n",
      "reading frame  117 True\n",
      "reading frame  118 True\n",
      "reading frame  119 True\n",
      "reading frame  120 True\n",
      "reading frame  121 True\n",
      "reading frame  122 True\n",
      "reading frame  123 True\n",
      "reading frame  124 True\n",
      "reading frame  125 False\n"
     ]
    },
    {
     "name": "stderr",
     "output_type": "stream",
     "text": [
      "Traceback (most recent call last):\n",
      "  File \"frame_extract.py\", line 17, in <module>\n",
      "    convert_to_frame(\"test.mp4\")        \n",
      "  File \"frame_extract.py\", line 12, in convert_to_frame\n",
      "    crop_img = image[:, 280:1000]\n",
      "TypeError: 'NoneType' object is not subscriptable\n"
     ]
    }
   ],
   "source": [
    "!python frame_extract.py"
   ]
  },
  {
   "cell_type": "code",
   "execution_count": 16,
   "metadata": {},
   "outputs": [
    {
     "name": "stdout",
     "output_type": "stream",
     "text": [
      "<class 'numpy.ndarray'> <class 'numpy.ndarray'> <class 'numpy.ndarray'>\n",
      "wow4\n",
      "wow4\n",
      "wow4\n",
      "wow4\n",
      "wow4\n",
      "wow4\n",
      "wow4\n",
      "wow4\n",
      "wow4\n",
      "wow4\n",
      "wow4\n",
      "wow4\n",
      "wow4\n",
      "wow4\n",
      "wow4\n",
      "wow4\n",
      "wow4\n",
      "wow4\n",
      "wow4\n",
      "wow4\n",
      "wow4\n",
      "wow4\n",
      "wow4\n",
      "wow4\n",
      "wow4\n",
      "wow4\n",
      "wow4\n",
      "wow4\n",
      "wow4\n",
      "wow4\n",
      "wow4\n",
      "wow4\n",
      "wow4\n",
      "wow4\n",
      "wow4\n",
      "wow4\n",
      "wow4\n",
      "wow4\n",
      "wow4\n",
      "wow4\n",
      "wow4\n",
      "wow4\n",
      "wow4\n",
      "wow4\n",
      "wow4\n",
      "wow4\n",
      "wow4\n",
      "wow4\n",
      "wow4\n",
      "wow4\n",
      "wow4\n",
      "wow4\n",
      "wow4\n",
      "wow4\n",
      "wow4\n",
      "wow4\n",
      "wow4\n",
      "wow4\n",
      "wow4\n",
      "wow4\n",
      "wow4\n",
      "wow4\n",
      "wow4\n",
      "wow4\n",
      "wow4\n",
      "wow4\n",
      "wow4\n",
      "wow4\n",
      "wow4\n",
      "wow4\n",
      "wow4\n",
      "wow4\n",
      "wow4\n",
      "wow4\n",
      "wow4\n",
      "wow4\n",
      "wow4\n",
      "wow4\n",
      "wow4\n",
      "wow4\n",
      "wow4\n",
      "wow4\n",
      "wow4\n",
      "wow4\n",
      "wow4\n",
      "wow4\n",
      "wow4\n",
      "wow4\n",
      "wow4\n",
      "wow4\n",
      "wow4\n",
      "wow4\n",
      "wow4\n",
      "wow4\n",
      "wow4\n",
      "wow4\n",
      "wow4\n",
      "wow4\n",
      "wow4\n",
      "wow4\n",
      "wow4\n",
      "wow4\n",
      "wow4\n",
      "wow4\n",
      "wow4\n",
      "wow4\n",
      "wow4\n",
      "wow4\n",
      "wow4\n",
      "wow4\n",
      "wow4\n",
      "wow4\n",
      "wow4\n",
      "wow4\n",
      "wow4\n",
      "wow4\n",
      "wow4\n",
      "wow4\n",
      "wow4\n",
      "wow4\n",
      "wow4\n",
      "wow4\n"
     ]
    }
   ],
   "source": [
    "!python shape_renderer1.py"
   ]
  },
  {
   "cell_type": "code",
   "execution_count": null,
   "metadata": {},
   "outputs": [],
   "source": [
    "!python ShapeUtils.py"
   ]
  },
  {
   "cell_type": "code",
   "execution_count": null,
   "metadata": {},
   "outputs": [],
   "source": []
  }
 ],
 "metadata": {
  "kernelspec": {
   "display_name": "Python [conda root]",
   "language": "python",
   "name": "conda-root-py"
  },
  "language_info": {
   "codemirror_mode": {
    "name": "ipython",
    "version": 3
   },
   "file_extension": ".py",
   "mimetype": "text/x-python",
   "name": "python",
   "nbconvert_exporter": "python",
   "pygments_lexer": "ipython3",
   "version": "3.6.4"
  }
 },
 "nbformat": 4,
 "nbformat_minor": 2
}
