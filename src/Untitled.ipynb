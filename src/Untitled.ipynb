{
 "cells": [
  {
   "cell_type": "code",
   "execution_count": 3,
   "metadata": {},
   "outputs": [
    {
     "name": "stdout",
     "output_type": "stream",
     "text": [
      "Preprocess Video 1\n",
      "Preprocess Video 2\n"
     ]
    },
    {
     "name": "stderr",
     "output_type": "stream",
     "text": [
      "warning: Error opening file (/build/opencv/modules/videoio/src/cap_ffmpeg_impl.hpp:834)\n",
      "warning: ../sample_video/ExpLabels.npy (/build/opencv/modules/videoio/src/cap_ffmpeg_impl.hpp:835)\n"
     ]
    }
   ],
   "source": [
    "!python landmark_generation.py"
   ]
  },
  {
   "cell_type": "code",
   "execution_count": 9,
   "metadata": {},
   "outputs": [
    {
     "name": "stdout",
     "output_type": "stream",
     "text": [
      "wow4\n",
      "wow4\n",
      "wow4\n",
      "wow4\n",
      "wow4\n",
      "wow4\n",
      "wow4\n",
      "wow4\n",
      "wow4\n",
      "wow4\n",
      "wow4\n",
      "wow4\n",
      "wow4\n",
      "wow4\n",
      "wow4\n",
      "wow4\n",
      "wow4\n",
      "wow4\n",
      "wow4\n",
      "wow4\n",
      "wow4\n",
      "wow4\n",
      "wow4\n",
      "wow4\n",
      "wow4\n",
      "wow4\n",
      "wow4\n",
      "wow4\n",
      "wow4\n",
      "wow4\n",
      "wow4\n",
      "wow4\n",
      "wow4\n",
      "wow4\n",
      "wow4\n",
      "wow4\n",
      "wow4\n",
      "wow4\n",
      "wow4\n",
      "wow4\n",
      "wow4\n",
      "wow4\n",
      "wow4\n",
      "wow4\n",
      "wow4\n",
      "wow4\n",
      "wow4\n",
      "wow4\n",
      "wow4\n",
      "wow4\n",
      "wow4\n",
      "wow4\n",
      "wow4\n",
      "wow4\n",
      "wow4\n",
      "wow4\n",
      "wow4\n",
      "wow4\n",
      "wow4\n",
      "wow4\n",
      "wow4\n",
      "wow4\n",
      "wow4\n",
      "wow4\n",
      "wow4\n",
      "wow4\n",
      "wow4\n",
      "wow4\n",
      "wow4\n",
      "wow4\n",
      "wow4\n",
      "wow4\n",
      "wow4\n",
      "wow4\n",
      "wow4\n",
      "wow4\n",
      "wow4\n",
      "wow4\n",
      "wow4\n",
      "wow4\n",
      "wow4\n",
      "wow4\n",
      "wow4\n",
      "wow4\n",
      "wow4\n",
      "wow4\n",
      "wow4\n",
      "wow4\n",
      "wow4\n",
      "wow4\n",
      "wow4\n",
      "wow4\n",
      "wow4\n",
      "wow4\n",
      "wow4\n",
      "wow4\n",
      "wow4\n",
      "wow4\n",
      "wow4\n",
      "wow4\n",
      "wow4\n",
      "wow4\n",
      "wow4\n",
      "wow4\n",
      "wow4\n",
      "wow4\n",
      "wow4\n",
      "wow4\n",
      "wow4\n",
      "wow4\n",
      "wow4\n",
      "wow4\n",
      "wow4\n",
      "wow4\n",
      "wow4\n",
      "wow4\n",
      "wow4\n",
      "wow4\n",
      "wow4\n",
      "wow4\n",
      "wow4\n",
      "wow4\n"
     ]
    }
   ],
   "source": [
    "!python shape_renderer.py"
   ]
  },
  {
   "cell_type": "code",
   "execution_count": null,
   "metadata": {},
   "outputs": [],
   "source": [
    "import vlc\n",
    "p = vlc.MediaPlayer(\"https://www.youtube.com/watch?v=jC1vtG3oyqg\")\n",
    "p.play()"
   ]
  },
  {
   "cell_type": "code",
   "execution_count": null,
   "metadata": {},
   "outputs": [],
   "source": []
  },
  {
   "cell_type": "code",
   "execution_count": null,
   "metadata": {},
   "outputs": [],
   "source": []
  }
 ],
 "metadata": {
  "kernelspec": {
   "display_name": "Python [conda root]",
   "language": "python",
   "name": "conda-root-py"
  },
  "language_info": {
   "codemirror_mode": {
    "name": "ipython",
    "version": 3
   },
   "file_extension": ".py",
   "mimetype": "text/x-python",
   "name": "python",
   "nbconvert_exporter": "python",
   "pygments_lexer": "ipython3",
   "version": "3.6.4"
  }
 },
 "nbformat": 4,
 "nbformat_minor": 2
}
